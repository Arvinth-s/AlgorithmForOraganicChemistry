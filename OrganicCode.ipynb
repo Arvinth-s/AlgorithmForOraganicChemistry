{
 "cells": [
  {
   "cell_type": "code",
   "execution_count": 1,
   "metadata": {},
   "outputs": [],
   "source": [
    "#OM NAMO NARAYANA"
   ]
  },
  {
   "cell_type": "code",
   "execution_count": 2,
   "metadata": {},
   "outputs": [],
   "source": [
    "group = []\n",
    "group.append([\"H\", \"Li\", \"Na\", \"K\", \"Rb\", \"Cs\", \"Fr\"])\n",
    "group.append(\"Be Mg Ca Ba Sr Ba Ra\".split())\n",
    "group.append(\"B Al Ga In Tl\".split())\n",
    "group.append(\"C Si Ge Tn Pb\".split())\n",
    "group.append(\"N P As Sb Bi\".split())\n",
    "group.append(\"O S Se Te Po\".split())\n",
    "group.append(\"F Cl Br I At\".split())\n",
    "group.append(\"He Ne Ar Kr Xe Rn\".split())"
   ]
  },
  {
   "cell_type": "code",
   "execution_count": 3,
   "metadata": {},
   "outputs": [
    {
     "data": {
      "text/plain": [
       "['H', 'Li', 'Na', 'K', 'Rb', 'Cs', 'Fr']"
      ]
     },
     "execution_count": 3,
     "metadata": {},
     "output_type": "execute_result"
    }
   ],
   "source": [
    "group[0]"
   ]
  },
  {
   "cell_type": "code",
   "execution_count": 4,
   "metadata": {},
   "outputs": [
    {
     "data": {
      "text/plain": [
       "['Be', 'Mg', 'Ca', 'Ba', 'Sr', 'Ba', 'Ra']"
      ]
     },
     "execution_count": 4,
     "metadata": {},
     "output_type": "execute_result"
    }
   ],
   "source": [
    "group[1]"
   ]
  },
  {
   "cell_type": "code",
   "execution_count": 5,
   "metadata": {},
   "outputs": [],
   "source": [
    "def encode(ele):\n",
    "    ngroup = 0\n",
    "    count = 1\n",
    "    ele = ele+' '\n",
    "    code = 1\n",
    "    if(ele[1] < 'a' or ele[1] > 'z'):\n",
    "        count += 1 \n",
    "    for i in range(len(group)):\n",
    "        if(ele[:-count] in group[i]):\n",
    "            temp = group[i].index(ele[:-count])\n",
    "            code = code*1000*(i+1) + code*100*(temp)+int(ele[count-1:len(ele)-1])\n",
    "            print(code)\n",
    "            break\n",
    "    return code"
   ]
  },
  {
   "cell_type": "code",
   "execution_count": 6,
   "metadata": {},
   "outputs": [],
   "source": [
    "def decode(code):\n",
    "    decoded = str(group[int(code/pow(10, len(str(code)) - 1))- 1][int(str(code)[1])])+str(int(str(code)[len(str(code)) - 1]))\n",
    "    return decoded"
   ]
  },
  {
   "cell_type": "code",
   "execution_count": 7,
   "metadata": {},
   "outputs": [
    {
     "name": "stdout",
     "output_type": "stream",
     "text": [
      "4002\n"
     ]
    },
    {
     "data": {
      "text/plain": [
       "'C2'"
      ]
     },
     "execution_count": 7,
     "metadata": {},
     "output_type": "execute_result"
    }
   ],
   "source": [
    "decode(encode(\"C2\"))"
   ]
  },
  {
   "cell_type": "code",
   "execution_count": 50,
   "metadata": {},
   "outputs": [
    {
     "data": {
      "text/html": [
       "<div id=\"graph-c3008899-d793-4dcd-bf31-b43bd6f1c764\"></div>\n",
       "           <script type=\"text/javascript\">\n",
       "           require.config({baseUrl: '/',\n",
       "                             paths: {jgraph: ['nbextensions/jgraph.min', 'https://rawgit.com/patrickfuller/jgraph/master/js/build/jgraph.min']}});\n",
       "           require(['jgraph'], function () {\n",
       "               var $d = $('#graph-c3008899-d793-4dcd-bf31-b43bd6f1c764');\n",
       "               $d.width(600); $d.height(400);\n",
       "               $d.jgraph = jQuery.extend({}, jgraph);\n",
       "               $d.jgraph.create($d, {nodeSize: 2.000000,\n",
       "                                     edgeSize: 0.250000,\n",
       "                                     defaultNodeColor: '0x5bc0de',\n",
       "                                     defaultEdgeColor: '0xaaaaaa',\n",
       "                                     shader: 'basic',\n",
       "                                     z: 100,\n",
       "                                     runOptimization: true,\n",
       "                                     directed: true,\n",
       "                                     showSave: false});\n",
       "               $d.jgraph.draw({\n",
       "    \"edges\": [\n",
       "        { \"source\": \"C1\", \"target\": \"C2\" },\n",
       "        { \"source\": \"C1\", \"target\": \"H1\" },\n",
       "        { \"source\": \"C1\", \"target\": \"H2\" },\n",
       "        { \"source\": \"C2\", \"target\": \"C1\" },\n",
       "        { \"source\": \"C2\", \"target\": \"C3\" },\n",
       "        { \"source\": \"C2\", \"target\": \"H3\" },\n",
       "        { \"source\": \"C3\", \"target\": \"C2\" },\n",
       "        { \"source\": \"C3\", \"target\": \"C4\" },\n",
       "        { \"source\": \"C3\", \"target\": \"H4\" },\n",
       "        { \"source\": \"C4\", \"target\": \"C3\" },\n",
       "        { \"source\": \"C4\", \"target\": \"H5\" },\n",
       "        { \"source\": \"C4\", \"target\": \"H6\" },\n",
       "        { \"source\": \"H1\", \"target\": \"C1\" },\n",
       "        { \"source\": \"H2\", \"target\": \"C1\" },\n",
       "        { \"source\": \"H3\", \"target\": \"C2\" },\n",
       "        { \"source\": \"H4\", \"target\": \"C3\" },\n",
       "        { \"source\": \"H5\", \"target\": \"C4\" },\n",
       "        { \"source\": \"H6\", \"target\": \"C4\" }\n",
       "    ],\n",
       "    \"nodes\": {\n",
       "        \"C1\": { \"color\": \"0xffaaaa\", \"size\": 3.333333333333333 },\n",
       "        \"C2\": { \"color\": \"0xffaaaa\", \"size\": 3.333333333333333 },\n",
       "        \"C3\": { \"color\": \"0xffaaaa\", \"size\": 3.333333333333333 },\n",
       "        \"C4\": { \"color\": \"0xffaaaa\", \"size\": 3.333333333333333 },\n",
       "        \"H1\": { \"color\": \"0xffaa\", \"size\": 2.3333333333333335 },\n",
       "        \"H2\": { \"color\": \"0xffaa\", \"size\": 2.3333333333333335 },\n",
       "        \"H3\": { \"color\": \"0xffaa\", \"size\": 2.3333333333333335 },\n",
       "        \"H4\": { \"color\": \"0xffaa\", \"size\": 2.3333333333333335 },\n",
       "        \"H5\": { \"color\": \"0xffaa\", \"size\": 2.3333333333333335 },\n",
       "        \"H6\": { \"color\": \"0xffaa\", \"size\": 2.3333333333333335 }\n",
       "    }\n",
       "});\n",
       "\n",
       "               $d.resizable({\n",
       "                   aspectRatio: 600 / 400,\n",
       "                   resize: function (evt, ui) {\n",
       "                       $d.jgraph.renderer.setSize(ui.size.width,\n",
       "                                                  ui.size.height);\n",
       "                   }\n",
       "               });\n",
       "           });\n",
       "           </script>"
      ],
      "text/plain": [
       "<IPython.core.display.HTML object>"
      ]
     },
     "metadata": {},
     "output_type": "display_data"
    }
   ],
   "source": [
    "import jgraph\n",
    "\n",
    "graph = {\n",
    "    'nodes':{\n",
    "        },\n",
    "    'edges':[\n",
    "        ]\n",
    "    }\n",
    "color = []\n",
    "color.append(0xff)#blue\n",
    "color.append(0xffaa)#light green\n",
    "color.append(0x000000)#black\n",
    "color.append(0x868686)#gray\n",
    "color.append(0xffaaaa)#pink\n",
    "color.append(0xff0000)#red\n",
    "color.append(0xB61AB3)#violet\n",
    "color.append(0xfffaaa)#yellow\n",
    "\n",
    "\n",
    "_s = []\n",
    "#THIS IS THE FILE LOCATION OF YOUR SOURCE\n",
    "with open(\"D:\\spider\\OrganicCode\\OrganicData.txt\") as file:\n",
    "    _s.append(file.read())\n",
    "lines = []\n",
    "\n",
    "for line in _s[0].split('\\n'):\n",
    "    lines.append(line)\n",
    "for line in lines:\n",
    "    if(len(line)== 0):\n",
    "        break\n",
    "    bond = line.split()\n",
    "    atom = int(bond[0])\n",
    "    if(int(atom/1000) == -1):\n",
    "        size = 2\n",
    "        scolor = color[0]\n",
    "    else:\n",
    "        size = 3 - (atom/1000)/8\n",
    "        scolor = color[int(atom/1000)]\n",
    "    graph['nodes'][decode(atom)] = {'size':2 + int(atom/1000)/3, 'color': scolor}\n",
    "    for edge in bond[1:-1]:\n",
    "        edge = edge.split('|')\n",
    "        edge = int(edge[0])\n",
    "        dic = {'source':decode(atom), 'target':decode(edge)}\n",
    "        graph['edges'].append(dic)\n",
    "#print(graph)\n",
    "jgraph.draw(graph)\n"
   ]
  },
  {
   "cell_type": "code",
   "execution_count": null,
   "metadata": {},
   "outputs": [],
   "source": []
  }
 ],
 "metadata": {
  "kernelspec": {
   "display_name": "Python 3",
   "language": "python",
   "name": "python3"
  },
  "language_info": {
   "codemirror_mode": {
    "name": "ipython",
    "version": 3
   },
   "file_extension": ".py",
   "mimetype": "text/x-python",
   "name": "python",
   "nbconvert_exporter": "python",
   "pygments_lexer": "ipython3",
   "version": "3.7.3"
  }
 },
 "nbformat": 4,
 "nbformat_minor": 2
}
