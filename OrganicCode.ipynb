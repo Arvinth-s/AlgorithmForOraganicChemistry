{
 "cells": [
  {
   "cell_type": "code",
   "execution_count": 1,
   "metadata": {},
   "outputs": [],
   "source": [
    "#OM NAMO NARAYANA"
   ]
  },
  {
   "cell_type": "code",
   "execution_count": 2,
   "metadata": {},
   "outputs": [],
   "source": [
    "group = []\n",
    "group.append([\"H\", \"Li\", \"Na\", \"K\", \"Rb\", \"Cs\", \"Fr\"])\n",
    "group.append(\"Be Mg Ca Ba Sr Ba Ra\".split())\n",
    "group.append(\"B Al Ga In Tl\".split())\n",
    "group.append(\"C Si Ge Tn Pb\".split())\n",
    "group.append(\"N P As Sb Bi\".split())\n",
    "group.append(\"O S Se Te Po\".split())\n",
    "group.append(\"F Cl Br I At\".split())\n",
    "group.append(\"He Ne Ar Kr Xe Rn\".split())"
   ]
  },
  {
   "cell_type": "code",
   "execution_count": 3,
   "metadata": {},
   "outputs": [
    {
     "data": {
      "text/plain": [
       "['H', 'Li', 'Na', 'K', 'Rb', 'Cs', 'Fr']"
      ]
     },
     "execution_count": 3,
     "metadata": {},
     "output_type": "execute_result"
    }
   ],
   "source": [
    "group[0]"
   ]
  },
  {
   "cell_type": "code",
   "execution_count": 4,
   "metadata": {},
   "outputs": [
    {
     "data": {
      "text/plain": [
       "['Be', 'Mg', 'Ca', 'Ba', 'Sr', 'Ba', 'Ra']"
      ]
     },
     "execution_count": 4,
     "metadata": {},
     "output_type": "execute_result"
    }
   ],
   "source": [
    "group[1]"
   ]
  },
  {
   "cell_type": "code",
   "execution_count": 5,
   "metadata": {},
   "outputs": [],
   "source": [
    "def encode(ele):\n",
    "    ngroup = 0\n",
    "    count = 1\n",
    "    ele = ele+' '\n",
    "    code = 1\n",
    "    if(ele[1] < 'a' or ele[1] > 'z'):\n",
    "        count += 1 \n",
    "    for i in range(len(group)):\n",
    "        if(ele[:-count] in group[i]):\n",
    "            temp = group[i].index(ele[:-count])\n",
    "            code = code*1000*(i+1) + code*100*(temp)+int(ele[count-1:len(ele)-1])\n",
    "            print(code)\n",
    "            break\n",
    "    return code"
   ]
  },
  {
   "cell_type": "code",
   "execution_count": 6,
   "metadata": {},
   "outputs": [],
   "source": [
    "def decode(code):\n",
    "    decoded = str(group[int(code/pow(10, len(str(code)) - 1))- 1][int(str(code)[1])])+str(int(str(code)[len(str(code)) - 1]))\n",
    "    return decoded"
   ]
  },
  {
   "cell_type": "code",
   "execution_count": 7,
   "metadata": {},
   "outputs": [
    {
     "name": "stdout",
     "output_type": "stream",
     "text": [
      "4002\n"
     ]
    },
    {
     "data": {
      "text/plain": [
       "'C2'"
      ]
     },
     "execution_count": 7,
     "metadata": {},
     "output_type": "execute_result"
    }
   ],
   "source": [
    "decode(encode(\"C2\"))"
   ]
  },
  {
   "cell_type": "code",
   "execution_count": 101,
   "metadata": {},
   "outputs": [
    {
     "name": "stdout",
     "output_type": "stream",
     "text": [
      "1\n"
     ]
    },
    {
     "data": {
      "text/html": [
       "<div id=\"graph-62e57ced-f9eb-4285-a6c6-81118b2d28d3\"></div>\n",
       "           <script type=\"text/javascript\">\n",
       "           require.config({baseUrl: '/',\n",
       "                             paths: {jgraph: ['nbextensions/jgraph.min', 'https://rawgit.com/patrickfuller/jgraph/master/js/build/jgraph.min']}});\n",
       "           require(['jgraph'], function () {\n",
       "               var $d = $('#graph-62e57ced-f9eb-4285-a6c6-81118b2d28d3');\n",
       "               $d.width(600); $d.height(400);\n",
       "               $d.jgraph = jQuery.extend({}, jgraph);\n",
       "               $d.jgraph.create($d, {nodeSize: 2.000000,\n",
       "                                     edgeSize: 0.250000,\n",
       "                                     defaultNodeColor: '0x5bc0de',\n",
       "                                     defaultEdgeColor: '0xaaaaaa',\n",
       "                                     shader: 'basic',\n",
       "                                     z: 100,\n",
       "                                     runOptimization: true,\n",
       "                                     directed: false,\n",
       "                                     showSave: false});\n",
       "               $d.jgraph.draw({\n",
       "    \"edges\": [\n",
       "        { \"color\": \"0x0\", \"size\": 6, \"source\": \"C1\", \"target\": \"C2\" },\n",
       "        { \"color\": \"0xffaa\", \"size\": 3, \"source\": \"C1\", \"target\": \"C6\" },\n",
       "        { \"color\": \"0xffaa\", \"size\": 3, \"source\": \"C1\", \"target\": \"H1\" },\n",
       "        { \"color\": \"0x0\", \"size\": 6, \"source\": \"C2\", \"target\": \"C1\" },\n",
       "        { \"color\": \"0xffaa\", \"size\": 3, \"source\": \"C2\", \"target\": \"C3\" },\n",
       "        { \"color\": \"0xffaa\", \"size\": 3, \"source\": \"C2\", \"target\": \"H2\" },\n",
       "        { \"color\": \"0x0\", \"size\": 6, \"source\": \"C3\", \"target\": \"C4\" },\n",
       "        { \"color\": \"0xffaa\", \"size\": 3, \"source\": \"C3\", \"target\": \"C2\" },\n",
       "        { \"color\": \"0xffaa\", \"size\": 3, \"source\": \"C3\", \"target\": \"H3\" },\n",
       "        { \"color\": \"0x0\", \"size\": 6, \"source\": \"C4\", \"target\": \"C3\" },\n",
       "        { \"color\": \"0xffaa\", \"size\": 3, \"source\": \"C4\", \"target\": \"C5\" },\n",
       "        { \"color\": \"0xffaa\", \"size\": 3, \"source\": \"C4\", \"target\": \"H4\" },\n",
       "        { \"color\": \"0x0\", \"size\": 6, \"source\": \"C5\", \"target\": \"C6\" },\n",
       "        { \"color\": \"0xffaa\", \"size\": 3, \"source\": \"C5\", \"target\": \"C4\" },\n",
       "        { \"color\": \"0xffaa\", \"size\": 3, \"source\": \"C5\", \"target\": \"H5\" },\n",
       "        { \"color\": \"0x0\", \"size\": 6, \"source\": \"C6\", \"target\": \"C5\" },\n",
       "        { \"color\": \"0xffaa\", \"size\": 3, \"source\": \"C6\", \"target\": \"C1\" },\n",
       "        { \"color\": \"0xffaa\", \"size\": 3, \"source\": \"C6\", \"target\": \"H6\" },\n",
       "        { \"color\": \"0xffaa\", \"size\": 3, \"source\": \"H1\", \"target\": \"C1\" },\n",
       "        { \"color\": \"0xffaa\", \"size\": 3, \"source\": \"H2\", \"target\": \"C2\" },\n",
       "        { \"color\": \"0xffaa\", \"size\": 3, \"source\": \"H3\", \"target\": \"C3\" },\n",
       "        { \"color\": \"0xffaa\", \"size\": 3, \"source\": \"H4\", \"target\": \"C4\" },\n",
       "        { \"color\": \"0xffaa\", \"size\": 3, \"source\": \"H5\", \"target\": \"C5\" },\n",
       "        { \"color\": \"0xffaa\", \"size\": 3, \"source\": \"H6\", \"target\": \"C6\" }\n",
       "    ],\n",
       "    \"nodes\": {\n",
       "        \"C1\": { \"color\": \"0xffaaaa\", \"name\": \"C1\", \"size\": 2.7499374999999997 },\n",
       "        \"C2\": { \"color\": \"0xffaaaa\", \"name\": \"C2\", \"size\": 2.7498750000000003 },\n",
       "        \"C3\": { \"color\": \"0xffaaaa\", \"name\": \"C3\", \"size\": 2.7498125 },\n",
       "        \"C4\": { \"color\": \"0xffaaaa\", \"name\": \"C4\", \"size\": 2.74975 },\n",
       "        \"C5\": { \"color\": \"0xffaaaa\", \"name\": \"C5\", \"size\": 2.7496875000000003 },\n",
       "        \"C6\": { \"color\": \"0xffaaaa\", \"name\": \"C6\", \"size\": 2.749625 },\n",
       "        \"H1\": { \"color\": \"0xffaa\", \"name\": \"H1\", \"size\": 2.5 },\n",
       "        \"H2\": { \"color\": \"0xffaa\", \"name\": \"H2\", \"size\": 2.5 },\n",
       "        \"H3\": { \"color\": \"0xffaa\", \"name\": \"H3\", \"size\": 2.5 },\n",
       "        \"H4\": { \"color\": \"0xffaa\", \"name\": \"H4\", \"size\": 2.5 },\n",
       "        \"H5\": { \"color\": \"0xffaa\", \"name\": \"H5\", \"size\": 2.5 },\n",
       "        \"H6\": { \"color\": \"0xffaa\", \"name\": \"H6\", \"size\": 2.5 }\n",
       "    }\n",
       "});\n",
       "\n",
       "               $d.resizable({\n",
       "                   aspectRatio: 600 / 400,\n",
       "                   resize: function (evt, ui) {\n",
       "                       $d.jgraph.renderer.setSize(ui.size.width,\n",
       "                                                  ui.size.height);\n",
       "                   }\n",
       "               });\n",
       "           });\n",
       "           </script>"
      ],
      "text/plain": [
       "<IPython.core.display.HTML object>"
      ]
     },
     "metadata": {},
     "output_type": "display_data"
    },
    {
     "name": "stdout",
     "output_type": "stream",
     "text": [
      "1\n"
     ]
    },
    {
     "data": {
      "text/html": [
       "<div id=\"graph-3fa6e4bd-9652-4231-bb4d-9a1717bd8476\"></div>\n",
       "           <script type=\"text/javascript\">\n",
       "           require.config({baseUrl: '/',\n",
       "                             paths: {jgraph: ['nbextensions/jgraph.min', 'https://rawgit.com/patrickfuller/jgraph/master/js/build/jgraph.min']}});\n",
       "           require(['jgraph'], function () {\n",
       "               var $d = $('#graph-3fa6e4bd-9652-4231-bb4d-9a1717bd8476');\n",
       "               $d.width(600); $d.height(400);\n",
       "               $d.jgraph = jQuery.extend({}, jgraph);\n",
       "               $d.jgraph.create($d, {nodeSize: 2.000000,\n",
       "                                     edgeSize: 0.250000,\n",
       "                                     defaultNodeColor: '0x5bc0de',\n",
       "                                     defaultEdgeColor: '0xaaaaaa',\n",
       "                                     shader: 'basic',\n",
       "                                     z: 100,\n",
       "                                     runOptimization: true,\n",
       "                                     directed: false,\n",
       "                                     showSave: false});\n",
       "               $d.jgraph.draw({\n",
       "    \"edges\": [\n",
       "        { \"color\": \"0xffaa\", \"size\": 3, \"source\": \"C1\", \"target\": \"C2\" },\n",
       "        { \"color\": \"0xffaa\", \"size\": 3, \"source\": \"C1\", \"target\": \"C6\" },\n",
       "        { \"color\": \"0xffaa\", \"size\": 3, \"source\": \"C1\", \"target\": \"H1\" },\n",
       "        { \"color\": \"0xffaa\", \"size\": 3, \"source\": \"C2\", \"target\": \"C1\" },\n",
       "        { \"color\": \"0xffaa\", \"size\": 3, \"source\": \"C2\", \"target\": \"C3\" },\n",
       "        { \"color\": \"0xffaa\", \"size\": 3, \"source\": \"C2\", \"target\": \"H2\" },\n",
       "        { \"color\": \"0xffaa\", \"size\": 3, \"source\": \"C3\", \"target\": \"C4\" },\n",
       "        { \"color\": \"0xffaa\", \"size\": 3, \"source\": \"C3\", \"target\": \"C2\" },\n",
       "        { \"color\": \"0xffaa\", \"size\": 3, \"source\": \"C3\", \"target\": \"H3\" },\n",
       "        { \"color\": \"0xffaa\", \"size\": 3, \"source\": \"C4\", \"target\": \"C3\" },\n",
       "        { \"color\": \"0xffaa\", \"size\": 3, \"source\": \"C4\", \"target\": \"C5\" },\n",
       "        { \"color\": \"0xffaa\", \"size\": 3, \"source\": \"C4\", \"target\": \"H4\" },\n",
       "        { \"color\": \"0x0\", \"size\": 6, \"source\": \"C5\", \"target\": \"C6\" },\n",
       "        { \"color\": \"0xffaa\", \"size\": 3, \"source\": \"C5\", \"target\": \"C4\" },\n",
       "        { \"color\": \"0xffaa\", \"size\": 3, \"source\": \"C5\", \"target\": \"H5\" },\n",
       "        { \"color\": \"0x0\", \"size\": 6, \"source\": \"C6\", \"target\": \"C5\" },\n",
       "        { \"color\": \"0xffaa\", \"size\": 3, \"source\": \"C6\", \"target\": \"C1\" },\n",
       "        { \"color\": \"0xffaa\", \"size\": 3, \"source\": \"C6\", \"target\": \"H6\" },\n",
       "        { \"color\": \"0xffaa\", \"size\": 3, \"source\": \"H1\", \"target\": \"C1\" },\n",
       "        { \"color\": \"0xffaa\", \"size\": 3, \"source\": \"H2\", \"target\": \"C2\" },\n",
       "        { \"color\": \"0xffaa\", \"size\": 3, \"source\": \"H3\", \"target\": \"C3\" },\n",
       "        { \"color\": \"0xffaa\", \"size\": 3, \"source\": \"H4\", \"target\": \"C4\" },\n",
       "        { \"color\": \"0xffaa\", \"size\": 3, \"source\": \"H5\", \"target\": \"C5\" },\n",
       "        { \"color\": \"0xffaa\", \"size\": 3, \"source\": \"H6\", \"target\": \"C6\" }\n",
       "    ],\n",
       "    \"nodes\": {\n",
       "        \"C1\": { \"color\": \"0xffaaaa\", \"name\": \"C1\", \"size\": 2.7499374999999997 },\n",
       "        \"C2\": { \"color\": \"0xffaaaa\", \"name\": \"C2\", \"size\": 2.7498750000000003 },\n",
       "        \"C3\": { \"color\": \"0xffaaaa\", \"name\": \"C3\", \"size\": 2.7498125 },\n",
       "        \"C4\": { \"color\": \"0xffaaaa\", \"name\": \"C4\", \"size\": 2.74975 },\n",
       "        \"C5\": { \"color\": \"0xffaaaa\", \"name\": \"C5\", \"size\": 2.7496875000000003 },\n",
       "        \"C6\": { \"color\": \"0xffaaaa\", \"name\": \"C6\", \"size\": 2.749625 },\n",
       "        \"H1\": { \"color\": \"0xffaa\", \"name\": \"H1\", \"size\": 2.5 },\n",
       "        \"H2\": { \"color\": \"0xffaa\", \"name\": \"H2\", \"size\": 2.5 },\n",
       "        \"H3\": { \"color\": \"0xffaa\", \"name\": \"H3\", \"size\": 2.5 },\n",
       "        \"H4\": { \"color\": \"0xffaa\", \"name\": \"H4\", \"size\": 2.5 },\n",
       "        \"H5\": { \"color\": \"0xffaa\", \"name\": \"H5\", \"size\": 2.5 },\n",
       "        \"H6\": { \"color\": \"0xffaa\", \"name\": \"H6\", \"size\": 2.5 }\n",
       "    }\n",
       "});\n",
       "\n",
       "               $d.resizable({\n",
       "                   aspectRatio: 600 / 400,\n",
       "                   resize: function (evt, ui) {\n",
       "                       $d.jgraph.renderer.setSize(ui.size.width,\n",
       "                                                  ui.size.height);\n",
       "                   }\n",
       "               });\n",
       "           });\n",
       "           </script>"
      ],
      "text/plain": [
       "<IPython.core.display.HTML object>"
      ]
     },
     "metadata": {},
     "output_type": "display_data"
    },
    {
     "name": "stdout",
     "output_type": "stream",
     "text": [
      "1\n"
     ]
    },
    {
     "data": {
      "text/html": [
       "<div id=\"graph-bced1b41-8779-4aa2-8659-0d008707a52f\"></div>\n",
       "           <script type=\"text/javascript\">\n",
       "           require.config({baseUrl: '/',\n",
       "                             paths: {jgraph: ['nbextensions/jgraph.min', 'https://rawgit.com/patrickfuller/jgraph/master/js/build/jgraph.min']}});\n",
       "           require(['jgraph'], function () {\n",
       "               var $d = $('#graph-bced1b41-8779-4aa2-8659-0d008707a52f');\n",
       "               $d.width(600); $d.height(400);\n",
       "               $d.jgraph = jQuery.extend({}, jgraph);\n",
       "               $d.jgraph.create($d, {nodeSize: 2.000000,\n",
       "                                     edgeSize: 0.250000,\n",
       "                                     defaultNodeColor: '0x5bc0de',\n",
       "                                     defaultEdgeColor: '0xaaaaaa',\n",
       "                                     shader: 'basic',\n",
       "                                     z: 100,\n",
       "                                     runOptimization: true,\n",
       "                                     directed: false,\n",
       "                                     showSave: false});\n",
       "               $d.jgraph.draw({\n",
       "    \"edges\": [],\n",
       "    \"nodes\": {} });\n",
       "\n",
       "               $d.resizable({\n",
       "                   aspectRatio: 600 / 400,\n",
       "                   resize: function (evt, ui) {\n",
       "                       $d.jgraph.renderer.setSize(ui.size.width,\n",
       "                                                  ui.size.height);\n",
       "                   }\n",
       "               });\n",
       "           });\n",
       "           </script>"
      ],
      "text/plain": [
       "<IPython.core.display.HTML object>"
      ]
     },
     "metadata": {},
     "output_type": "display_data"
    }
   ],
   "source": [
    "import jgraph\n",
    "from time import sleep\n",
    "\n",
    "graph = {\n",
    "    'nodes':{\n",
    "        },\n",
    "    'edges':[\n",
    "        ]\n",
    "    }\n",
    "color = []\n",
    "color.append(0xff)#blue\n",
    "color.append(0xffaa)#light green\n",
    "color.append(0x000000)#black\n",
    "color.append(0x868686)#gray\n",
    "color.append(0xffaaaa)#pink\n",
    "color.append(0xff0000)#red\n",
    "color.append(0xB61AB3)#violet\n",
    "color.append(0xfffaaa)#yellow\n",
    "\n",
    "\n",
    "_s = []\n",
    "#THIS IS THE FILE LOCATION OF YOUR SOURCE\n",
    "with open(\"D:\\spider\\OrganicCode\\OrganicData.txt\") as file:\n",
    "    _s.append(file.read())\n",
    "lines = []\n",
    "\n",
    "for line in _s[0].split('\\n'):\n",
    "    lines.append(line)\n",
    "for line in lines:\n",
    "    if(len(line)== 0):\n",
    "        print('1')\n",
    "        jgraph.draw(graph, directed = False)\n",
    "        graph = {\n",
    "    'nodes':{\n",
    "        },\n",
    "    'edges':[\n",
    "        ]\n",
    "    }\n",
    "        continue\n",
    "    bond = line.split()\n",
    "    atom = int(bond[0])\n",
    "    if(int(atom/1000) == 1):\n",
    "        size = 1\n",
    "        scolor = color[1]\n",
    "    else:\n",
    "        size = 2 - (atom/1000)/8 + int((atom/100)%10)/4\n",
    "        scolor = color[int(atom/1000)]\n",
    "    graph['nodes'][decode(atom)] = {'size':2 + size/2, 'color': scolor, 'name':decode(atom)}\n",
    "    for edge in bond[1:-1]:\n",
    "        _edge = edge.split('|')\n",
    "        edge = int(_edge[0])\n",
    "        mbond = int(_edge[1])\n",
    "        bond_color = color[mbond]\n",
    "        dic = {'source':decode(atom), 'target':decode(edge), 'size':3*mbond, 'color':bond_color}\n",
    "        graph['edges'].append(dic)\n"
   ]
  },
  {
   "cell_type": "code",
   "execution_count": null,
   "metadata": {},
   "outputs": [],
   "source": []
  }
 ],
 "metadata": {
  "kernelspec": {
   "display_name": "Python 3",
   "language": "python",
   "name": "python3"
  },
  "language_info": {
   "codemirror_mode": {
    "name": "ipython",
    "version": 3
   },
   "file_extension": ".py",
   "mimetype": "text/x-python",
   "name": "python",
   "nbconvert_exporter": "python",
   "pygments_lexer": "ipython3",
   "version": "3.7.3"
  }
 },
 "nbformat": 4,
 "nbformat_minor": 2
}
